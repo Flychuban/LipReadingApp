{
  "nbformat": 4,
  "nbformat_minor": 0,
  "metadata": {
    "colab": {
      "provenance": [],
      "mount_file_id": "1tyYovIHLN755GcGynEuaSAGJMYdz9cKp",
      "authorship_tag": "ABX9TyNf3OtO9THNGbNFWFP0Pybk",
      "include_colab_link": true
    },
    "kernelspec": {
      "name": "python3",
      "display_name": "Python 3"
    },
    "language_info": {
      "name": "python"
    },
    "accelerator": "GPU",
    "gpuClass": "standard"
  },
  "cells": [
    {
      "cell_type": "markdown",
      "metadata": {
        "id": "view-in-github",
        "colab_type": "text"
      },
      "source": [
        "<a href=\"https://colab.research.google.com/github/Flychuban/LipReadingApp/blob/main/lip_reading_model.ipynb\" target=\"_parent\"><img src=\"https://colab.research.google.com/assets/colab-badge.svg\" alt=\"Open In Colab\"/></a>"
      ]
    },
    {
      "cell_type": "code",
      "execution_count": null,
      "metadata": {
        "id": "z4SUynx5NtSv"
      },
      "outputs": [],
      "source": [
        "!pip install opencv-python imageio gdown tensorflow"
      ]
    },
    {
      "cell_type": "code",
      "source": [
        "import os\n",
        "import cv2\n",
        "import tensorflow as tf\n",
        "import numpy as np\n",
        "from typing import List\n",
        "from matplotlib import pyplot as plt\n",
        "import imageio"
      ],
      "metadata": {
        "id": "zoFrpUHJOJLR"
      },
      "execution_count": 2,
      "outputs": []
    },
    {
      "cell_type": "code",
      "source": [
        "physical_devices = tf.config.list_physical_devices('GPU')\n",
        "\n",
        "try:\n",
        "  tf.config.experimental.set_memory_growth(physical_devices[0], True)\n",
        "except:\n",
        "  pass"
      ],
      "metadata": {
        "id": "hvy1bSf8O8xQ"
      },
      "execution_count": 3,
      "outputs": []
    },
    {
      "cell_type": "code",
      "source": [
        "import gdown"
      ],
      "metadata": {
        "id": "RmCBcH-XRcFx"
      },
      "execution_count": 4,
      "outputs": []
    },
    {
      "cell_type": "code",
      "source": [
        "url = 'https://drive.google.com/uc?id=1YlvpDLix3S-U8fd-gqRwPcWXAXm8JwjL'\n",
        "output = 'data.zip'\n",
        "gdown.download(url, output, quiet=False)\n",
        "gdown.extractall('data.zip')"
      ],
      "metadata": {
        "id": "9pPSMvvBQJyx"
      },
      "execution_count": null,
      "outputs": []
    },
    {
      "cell_type": "code",
      "source": [
        "def load_video(path: str) -> List[float]:\n",
        "  cap = cv2.VideoCapture(path)\n",
        "  frames = []\n",
        "  for _ in range(int(cap.get(cv2.CAP_PROP_FRAME_COUNT))):\n",
        "    ret, frame = cap.read()\n",
        "    frame = tf.image.rgb_to_grayscale(frame)\n",
        "    frames.append(frame[190:236, 80:220, :])\n",
        "  cap.release()\n",
        "  mean = tf.math.reduce_mean(frames)\n",
        "  std = tf.math.reduce_std(tf.cast(frames, tf.float32))\n",
        "  return tf.cast((frames - mean), tf.float32) / std"
      ],
      "metadata": {
        "id": "GPVDDUp5RqzO"
      },
      "execution_count": 5,
      "outputs": []
    },
    {
      "cell_type": "code",
      "source": [
        "vocab = [x for x in \"abcdefghijklmnopqrstuvwxyz'?!123456789 \"]"
      ],
      "metadata": {
        "id": "kqauE461W82x"
      },
      "execution_count": 6,
      "outputs": []
    },
    {
      "cell_type": "code",
      "source": [
        "char_to_num = tf.keras.layers.StringLookup(vocabulary = vocab, oov_token = \"\")\n",
        "num_to_char = tf.keras.layers.StringLookup(vocabulary = char_to_num.get_vocabulary(), oov_token = \"\", invert=True)\n",
        "\n",
        "print(\n",
        "    f\"The vocabulary is: {char_to_num.get_vocabulary()} \"\n",
        "    f\"(size ={char_to_num.vocabulary_size()})\"\n",
        ")"
      ],
      "metadata": {
        "colab": {
          "base_uri": "https://localhost:8080/"
        },
        "id": "BHtzNGVMXYwT",
        "outputId": "df10eedd-23ca-4933-d6e1-945fe042db65"
      },
      "execution_count": 7,
      "outputs": [
        {
          "output_type": "stream",
          "name": "stdout",
          "text": [
            "The vocabulary is: ['', 'a', 'b', 'c', 'd', 'e', 'f', 'g', 'h', 'i', 'j', 'k', 'l', 'm', 'n', 'o', 'p', 'q', 'r', 's', 't', 'u', 'v', 'w', 'x', 'y', 'z', \"'\", '?', '!', '1', '2', '3', '4', '5', '6', '7', '8', '9', ' '] (size =40)\n"
          ]
        }
      ]
    },
    {
      "cell_type": "code",
      "source": [
        "def load_alignments(path:str) -> List[str]: \n",
        "    with open(path, 'r') as f: \n",
        "        lines = f.readlines() \n",
        "    tokens = []\n",
        "    for line in lines:\n",
        "        line = line.split()\n",
        "        if line[2] != 'sil': \n",
        "            tokens = [*tokens,' ',line[2]]\n",
        "    return char_to_num(tf.reshape(tf.strings.unicode_split(tokens, input_encoding='UTF-8'), (-1)))[1:]"
      ],
      "metadata": {
        "id": "pVyTIWS7ZvRK"
      },
      "execution_count": 8,
      "outputs": []
    },
    {
      "cell_type": "code",
      "source": [
        "def load_data(path: str): \n",
        "    path = bytes.decode(path.numpy())\n",
        "    file_name = path.split('/')[-1].split('.')[0]\n",
        "    # File name splitting for windows\n",
        "    # file_name = path.split('\\\\')[-1].split('.')[0]\n",
        "    video_path = os.path.join('../' + 'content', 'drive', 'MyDrive', 'LipReading', 'data', 's1', f'{file_name}.mpg')\n",
        "    alignment_path = os.path.join('../' + 'content', 'drive', 'MyDrive', 'LipReading', 'data','alignments','s1',f'{file_name}.align')\n",
        "    frames = load_video(video_path) \n",
        "    alignments = load_alignments(alignment_path)\n",
        "    \n",
        "    return frames, alignments"
      ],
      "metadata": {
        "id": "_ejaUJP3c4Rr"
      },
      "execution_count": 9,
      "outputs": []
    },
    {
      "cell_type": "code",
      "source": [
        "test_path = '../content/drive/MyDrive/LipReading/data/s1/bbal6n.mpg'"
      ],
      "metadata": {
        "id": "MXnW5b-AdZg2"
      },
      "execution_count": 10,
      "outputs": []
    },
    {
      "cell_type": "code",
      "source": [
        "frames, alignments = load_data(tf.convert_to_tensor(test_path))"
      ],
      "metadata": {
        "id": "PcscjyKAlDcx"
      },
      "execution_count": 11,
      "outputs": []
    },
    {
      "cell_type": "code",
      "source": [
        "frames"
      ],
      "metadata": {
        "id": "fwinv-aMlGxE",
        "colab": {
          "base_uri": "https://localhost:8080/"
        },
        "outputId": "a295f68f-4031-478d-b886-08ecdaf093c6"
      },
      "execution_count": 12,
      "outputs": [
        {
          "output_type": "execute_result",
          "data": {
            "text/plain": [
              "<tf.Tensor: shape=(75, 46, 140, 1), dtype=float32, numpy=\n",
              "array([[[[ 1.460374  ],\n",
              "         [ 1.460374  ],\n",
              "         [ 1.4209044 ],\n",
              "         ...,\n",
              "         [ 0.15787826],\n",
              "         [ 0.19734783],\n",
              "         [ 0.07893913]],\n",
              "\n",
              "        [[ 1.460374  ],\n",
              "         [ 1.460374  ],\n",
              "         [ 1.4209044 ],\n",
              "         ...,\n",
              "         [ 0.15787826],\n",
              "         [ 0.07893913],\n",
              "         [ 0.03946957]],\n",
              "\n",
              "        [[ 1.4209044 ],\n",
              "         [ 1.4209044 ],\n",
              "         [ 1.3814349 ],\n",
              "         ...,\n",
              "         [ 0.07893913],\n",
              "         [ 0.07893913],\n",
              "         [ 0.07893913]],\n",
              "\n",
              "        ...,\n",
              "\n",
              "        [[ 0.9472696 ],\n",
              "         [ 0.9472696 ],\n",
              "         [ 0.9472696 ],\n",
              "         ...,\n",
              "         [ 9.946331  ],\n",
              "         [ 9.867392  ],\n",
              "         [ 9.867392  ]],\n",
              "\n",
              "        [[ 0.9472696 ],\n",
              "         [ 0.9472696 ],\n",
              "         [ 0.9472696 ],\n",
              "         ...,\n",
              "         [ 9.906861  ],\n",
              "         [ 9.867392  ],\n",
              "         [ 9.867392  ]],\n",
              "\n",
              "        [[ 0.9472696 ],\n",
              "         [ 0.9472696 ],\n",
              "         [ 0.9472696 ],\n",
              "         ...,\n",
              "         [ 9.906861  ],\n",
              "         [ 9.867392  ],\n",
              "         [ 9.867392  ]]],\n",
              "\n",
              "\n",
              "       [[[ 1.4209044 ],\n",
              "         [ 1.4209044 ],\n",
              "         [ 1.3419653 ],\n",
              "         ...,\n",
              "         [ 0.19734783],\n",
              "         [ 0.1184087 ],\n",
              "         [ 0.15787826]],\n",
              "\n",
              "        [[ 1.4209044 ],\n",
              "         [ 1.4209044 ],\n",
              "         [ 1.3419653 ],\n",
              "         ...,\n",
              "         [ 0.2368174 ],\n",
              "         [ 0.        ],\n",
              "         [ 0.03946957]],\n",
              "\n",
              "        [[ 1.3419653 ],\n",
              "         [ 1.3419653 ],\n",
              "         [ 1.3024957 ],\n",
              "         ...,\n",
              "         [ 0.1184087 ],\n",
              "         [ 0.15787826],\n",
              "         [ 0.15787826]],\n",
              "\n",
              "        ...,\n",
              "\n",
              "        [[ 0.9472696 ],\n",
              "         [ 0.9472696 ],\n",
              "         [ 0.9472696 ],\n",
              "         ...,\n",
              "         [10.02527   ],\n",
              "         [ 9.946331  ],\n",
              "         [ 9.946331  ]],\n",
              "\n",
              "        [[ 0.9078001 ],\n",
              "         [ 0.9078001 ],\n",
              "         [ 0.9078001 ],\n",
              "         ...,\n",
              "         [ 9.946331  ],\n",
              "         [ 9.906861  ],\n",
              "         [ 9.906861  ]],\n",
              "\n",
              "        [[ 0.9078001 ],\n",
              "         [ 0.9078001 ],\n",
              "         [ 0.9078001 ],\n",
              "         ...,\n",
              "         [ 9.946331  ],\n",
              "         [ 9.906861  ],\n",
              "         [ 9.906861  ]]],\n",
              "\n",
              "\n",
              "       [[[ 1.4209044 ],\n",
              "         [ 1.4209044 ],\n",
              "         [ 1.3419653 ],\n",
              "         ...,\n",
              "         [ 0.15787826],\n",
              "         [ 0.07893913],\n",
              "         [ 0.15787826]],\n",
              "\n",
              "        [[ 1.4209044 ],\n",
              "         [ 1.4209044 ],\n",
              "         [ 1.3419653 ],\n",
              "         ...,\n",
              "         [ 0.27628696],\n",
              "         [ 0.03946957],\n",
              "         [ 0.15787826]],\n",
              "\n",
              "        [[ 1.3419653 ],\n",
              "         [ 1.3024957 ],\n",
              "         [ 1.3419653 ],\n",
              "         ...,\n",
              "         [ 0.1184087 ],\n",
              "         [ 0.1184087 ],\n",
              "         [ 0.1184087 ]],\n",
              "\n",
              "        ...,\n",
              "\n",
              "        [[ 0.98673916],\n",
              "         [ 0.98673916],\n",
              "         [ 0.9472696 ],\n",
              "         ...,\n",
              "         [ 9.985801  ],\n",
              "         [ 9.985801  ],\n",
              "         [ 9.985801  ]],\n",
              "\n",
              "        [[ 0.9472696 ],\n",
              "         [ 0.9472696 ],\n",
              "         [ 0.9078001 ],\n",
              "         ...,\n",
              "         [ 9.946331  ],\n",
              "         [ 9.906861  ],\n",
              "         [ 9.906861  ]],\n",
              "\n",
              "        [[ 0.9472696 ],\n",
              "         [ 0.9472696 ],\n",
              "         [ 0.9078001 ],\n",
              "         ...,\n",
              "         [ 9.946331  ],\n",
              "         [ 9.906861  ],\n",
              "         [ 9.906861  ]]],\n",
              "\n",
              "\n",
              "       ...,\n",
              "\n",
              "\n",
              "       [[[ 1.3814349 ],\n",
              "         [ 1.3814349 ],\n",
              "         [ 1.4209044 ],\n",
              "         ...,\n",
              "         [ 0.19734783],\n",
              "         [ 0.15787826],\n",
              "         [ 0.07893913]],\n",
              "\n",
              "        [[ 1.3814349 ],\n",
              "         [ 1.3814349 ],\n",
              "         [ 1.4209044 ],\n",
              "         ...,\n",
              "         [ 0.1184087 ],\n",
              "         [ 0.1184087 ],\n",
              "         [ 0.07893913]],\n",
              "\n",
              "        [[ 1.3024957 ],\n",
              "         [ 1.3024957 ],\n",
              "         [ 1.3024957 ],\n",
              "         ...,\n",
              "         [ 0.1184087 ],\n",
              "         [ 0.1184087 ],\n",
              "         [ 0.15787826]],\n",
              "\n",
              "        ...,\n",
              "\n",
              "        [[ 0.98673916],\n",
              "         [ 0.9472696 ],\n",
              "         [ 0.9472696 ],\n",
              "         ...,\n",
              "         [ 9.906861  ],\n",
              "         [ 9.867392  ],\n",
              "         [ 9.867392  ]],\n",
              "\n",
              "        [[ 0.9472696 ],\n",
              "         [ 0.9472696 ],\n",
              "         [ 0.9472696 ],\n",
              "         ...,\n",
              "         [ 9.906861  ],\n",
              "         [ 9.867392  ],\n",
              "         [ 9.867392  ]],\n",
              "\n",
              "        [[ 0.9472696 ],\n",
              "         [ 0.9472696 ],\n",
              "         [ 0.9472696 ],\n",
              "         ...,\n",
              "         [ 9.906861  ],\n",
              "         [ 9.867392  ],\n",
              "         [ 9.867392  ]]],\n",
              "\n",
              "\n",
              "       [[[ 1.3419653 ],\n",
              "         [ 1.3419653 ],\n",
              "         [ 1.3814349 ],\n",
              "         ...,\n",
              "         [ 0.15787826],\n",
              "         [ 0.07893913],\n",
              "         [ 0.        ]],\n",
              "\n",
              "        [[ 1.3419653 ],\n",
              "         [ 1.3419653 ],\n",
              "         [ 1.3814349 ],\n",
              "         ...,\n",
              "         [ 0.15787826],\n",
              "         [ 0.1184087 ],\n",
              "         [ 0.03946957]],\n",
              "\n",
              "        [[ 1.3024957 ],\n",
              "         [ 1.3024957 ],\n",
              "         [ 1.3024957 ],\n",
              "         ...,\n",
              "         [ 0.1184087 ],\n",
              "         [ 0.07893913],\n",
              "         [ 0.1184087 ]],\n",
              "\n",
              "        ...,\n",
              "\n",
              "        [[ 0.9472696 ],\n",
              "         [ 0.9078001 ],\n",
              "         [ 0.9078001 ],\n",
              "         ...,\n",
              "         [ 9.867392  ],\n",
              "         [ 9.827922  ],\n",
              "         [ 9.827922  ]],\n",
              "\n",
              "        [[ 0.9078001 ],\n",
              "         [ 0.9078001 ],\n",
              "         [ 0.9078001 ],\n",
              "         ...,\n",
              "         [ 9.867392  ],\n",
              "         [ 9.827922  ],\n",
              "         [ 9.827922  ]],\n",
              "\n",
              "        [[ 0.9078001 ],\n",
              "         [ 0.9078001 ],\n",
              "         [ 0.9078001 ],\n",
              "         ...,\n",
              "         [ 9.867392  ],\n",
              "         [ 9.827922  ],\n",
              "         [ 9.827922  ]]],\n",
              "\n",
              "\n",
              "       [[[ 1.3024957 ],\n",
              "         [ 1.3024957 ],\n",
              "         [ 1.3814349 ],\n",
              "         ...,\n",
              "         [ 0.07893913],\n",
              "         [ 0.07893913],\n",
              "         [ 0.15787826]],\n",
              "\n",
              "        [[ 1.3024957 ],\n",
              "         [ 1.3024957 ],\n",
              "         [ 1.3814349 ],\n",
              "         ...,\n",
              "         [ 0.        ],\n",
              "         [ 0.07893913],\n",
              "         [ 0.2368174 ]],\n",
              "\n",
              "        [[ 1.3419653 ],\n",
              "         [ 1.3419653 ],\n",
              "         [ 1.3419653 ],\n",
              "         ...,\n",
              "         [ 0.07893913],\n",
              "         [ 0.07893913],\n",
              "         [ 0.07893913]],\n",
              "\n",
              "        ...,\n",
              "\n",
              "        [[ 0.9078001 ],\n",
              "         [ 0.9078001 ],\n",
              "         [ 0.9078001 ],\n",
              "         ...,\n",
              "         [ 9.906861  ],\n",
              "         [ 9.867392  ],\n",
              "         [ 9.867392  ]],\n",
              "\n",
              "        [[ 0.9078001 ],\n",
              "         [ 0.9078001 ],\n",
              "         [ 0.9078001 ],\n",
              "         ...,\n",
              "         [ 9.946331  ],\n",
              "         [ 9.867392  ],\n",
              "         [ 9.867392  ]],\n",
              "\n",
              "        [[ 0.9078001 ],\n",
              "         [ 0.9078001 ],\n",
              "         [ 0.9078001 ],\n",
              "         ...,\n",
              "         [ 9.946331  ],\n",
              "         [ 9.867392  ],\n",
              "         [ 9.867392  ]]]], dtype=float32)>"
            ]
          },
          "metadata": {},
          "execution_count": 12
        }
      ]
    },
    {
      "cell_type": "code",
      "source": [
        "plt.imshow(frames[43])"
      ],
      "metadata": {
        "colab": {
          "base_uri": "https://localhost:8080/",
          "height": 244
        },
        "id": "O9r36qFblHx0",
        "outputId": "8dfb7729-77e7-407a-9357-adf76e19ae3f"
      },
      "execution_count": 13,
      "outputs": [
        {
          "output_type": "execute_result",
          "data": {
            "text/plain": [
              "<matplotlib.image.AxesImage at 0x7fcb617d8760>"
            ]
          },
          "metadata": {},
          "execution_count": 13
        },
        {
          "output_type": "display_data",
          "data": {
            "text/plain": [
              "<Figure size 640x480 with 1 Axes>"
            ],
            "image/png": "[encoded data removed]"
          },
          "metadata": {}
        }
      ]
    },
    {
      "cell_type": "code",
      "source": [
        "def mappable_function(path:str) ->List[str]:\n",
        "    result = tf.py_function(load_data, [path], (tf.float32, tf.int64))\n",
        "    return result"
      ],
      "metadata": {
        "id": "NwHLJ0Upmg5A"
      },
      "execution_count": 14,
      "outputs": []
    },
    {
      "cell_type": "code",
      "source": [
        "data = tf.data.Dataset.list_files(\"../content/drive/MyDrive/LipReading/data/s1/*.mpg\")\n",
        "data = data.shuffle(500, reshuffle_each_iteration=False)\n",
        "data = data.map(mappable_function)\n",
        "data = data.padded_batch(2, padded_shapes=([75,None,None,None],[40]))\n",
        "data = data.prefetch(tf.data.AUTOTUNE)\n",
        "\n",
        "train = data.take(450)\n",
        "test = data.skip(450)"
      ],
      "metadata": {
        "id": "vqUagLOSjpg2"
      },
      "execution_count": 15,
      "outputs": []
    },
    {
      "cell_type": "code",
      "source": [
        "len(test)"
      ],
      "metadata": {
        "colab": {
          "base_uri": "https://localhost:8080/"
        },
        "id": "zxmTDmXHk6ZV",
        "outputId": "a0d23e0f-b1a3-44c7-fa99-6816a56baaad"
      },
      "execution_count": 16,
      "outputs": [
        {
          "output_type": "execute_result",
          "data": {
            "text/plain": [
              "50"
            ]
          },
          "metadata": {},
          "execution_count": 16
        }
      ]
    },
    {
      "cell_type": "code",
      "source": [
        "frames, alignments = data.as_numpy_iterator().next()"
      ],
      "metadata": {
        "id": "x7-k_WSOleUz"
      },
      "execution_count": 17,
      "outputs": []
    },
    {
      "cell_type": "code",
      "source": [
        "len(frames)"
      ],
      "metadata": {
        "colab": {
          "base_uri": "https://localhost:8080/"
        },
        "id": "fyTez2gWls04",
        "outputId": "fa51ead3-c742-4365-b2ab-37aa1e02af5d"
      },
      "execution_count": 18,
      "outputs": [
        {
          "output_type": "execute_result",
          "data": {
            "text/plain": [
              "2"
            ]
          },
          "metadata": {},
          "execution_count": 18
        }
      ]
    },
    {
      "cell_type": "code",
      "source": [
        "sample = data.as_numpy_iterator()"
      ],
      "metadata": {
        "id": "NqlCeDmQlwpI"
      },
      "execution_count": 19,
      "outputs": []
    },
    {
      "cell_type": "code",
      "source": [
        "val = sample.next()"
      ],
      "metadata": {
        "id": "CZrbnURdl6Kr"
      },
      "execution_count": 20,
      "outputs": []
    },
    {
      "cell_type": "code",
      "source": [
        "imageio.mimsave('./animation.gif', val[0][0], fps=10)"
      ],
      "metadata": {
        "id": "E1cRj0Byl-st"
      },
      "execution_count": null,
      "outputs": []
    },
    {
      "cell_type": "code",
      "source": [
        "from tensorflow.keras.models import Sequential\n",
        "from tensorflow.keras.layers import Conv3D, LSTM, Dropout, Dense, Bidirectional, MaxPooling3D, Activation, Reshape, SpatialDropout3D, BatchNormalization, TimeDistributed, Flatten\n",
        "from tensorflow.keras.optimizers import Adam\n",
        "from tensorflow.keras.callbacks import ModelCheckpoint, LearningRateScheduler"
      ],
      "metadata": {
        "id": "OBwunOtho4VG"
      },
      "execution_count": 22,
      "outputs": []
    },
    {
      "cell_type": "code",
      "source": [
        "from keras.layers import MaxPool3D\n",
        "model = Sequential()\n",
        "model.add(Conv3D(128, 3, input_shape=(75, 46, 140, 1), padding='same'))\n",
        "model.add(Activation('relu'))\n",
        "model.add(MaxPool3D((1, 2, 2)))\n",
        "\n",
        "model.add(Conv3D(256, 3, padding='same'))\n",
        "model.add(Activation('relu'))\n",
        "model.add(MaxPool3D((1, 2, 2)))\n",
        "\n",
        "model.add(Conv3D(75, 3, padding='same'))\n",
        "model.add(Activation('relu'))\n",
        "model.add(MaxPool3D((1, 2, 2)))\n",
        "\n",
        "model.add(TimeDistributed(Flatten()))\n",
        "\n",
        "model.add(Bidirectional(LSTM(128, kernel_initializer='Orthogonal', return_sequences=True)))\n",
        "model.add(Dropout(.5))\n",
        "\n",
        "model.add(Bidirectional(LSTM(128, kernel_initializer='Orthogonal', return_sequences=True)))\n",
        "model.add(Dropout(.5))\n",
        "\n",
        "model.add(Dense(char_to_num.vocab_size() + 1, kernel_initializer='he_normal', activation='softmax'))"
      ],
      "metadata": {
        "colab": {
          "base_uri": "https://localhost:8080/"
        },
        "id": "5Fd1BoUOp_y6",
        "outputId": "4b37199d-134a-4d8f-98c5-aa0245d045d4"
      },
      "execution_count": 23,
      "outputs": [
        {
          "output_type": "stream",
          "name": "stderr",
          "text": [
            "WARNING:tensorflow:vocab_size is deprecated, please use vocabulary_size.\n"
          ]
        }
      ]
    },
    {
      "cell_type": "code",
      "source": [
        "model.summary()"
      ],
      "metadata": {
        "colab": {
          "base_uri": "https://localhost:8080/"
        },
        "id": "nFak1_k6tarJ",
        "outputId": "0773060b-1370-4d00-809e-4644d5ddb15d"
      },
      "execution_count": 24,
      "outputs": [
        {
          "output_type": "stream",
          "name": "stdout",
          "text": [
            "Model: \"sequential\"\n",
            "_________________________________________________________________\n",
            " Layer (type)                Output Shape              Param #   \n",
            "=================================================================\n",
            " conv3d (Conv3D)             (None, 75, 46, 140, 128)  3584      \n",
            "                                                                 \n",
            " activation (Activation)     (None, 75, 46, 140, 128)  0         \n",
            "                                                                 \n",
            " max_pooling3d (MaxPooling3D  (None, 75, 23, 70, 128)  0         \n",
            " )                                                               \n",
            "                                                                 \n",
            " conv3d_1 (Conv3D)           (None, 75, 23, 70, 256)   884992    \n",
            "                                                                 \n",
            " activation_1 (Activation)   (None, 75, 23, 70, 256)   0         \n",
            "                                                                 \n",
            " max_pooling3d_1 (MaxPooling  (None, 75, 11, 35, 256)  0         \n",
            " 3D)                                                             \n",
            "                                                                 \n",
            " conv3d_2 (Conv3D)           (None, 75, 11, 35, 75)    518475    \n",
            "                                                                 \n",
            " activation_2 (Activation)   (None, 75, 11, 35, 75)    0         \n",
            "                                                                 \n",
            " max_pooling3d_2 (MaxPooling  (None, 75, 5, 17, 75)    0         \n",
            " 3D)                                                             \n",
            "                                                                 \n",
            " time_distributed (TimeDistr  (None, 75, 6375)         0         \n",
            " ibuted)                                                         \n",
            "                                                                 \n",
            " bidirectional (Bidirectiona  (None, 75, 256)          6660096   \n",
            " l)                                                              \n",
            "                                                                 \n",
            " dropout (Dropout)           (None, 75, 256)           0         \n",
            "                                                                 \n",
            " bidirectional_1 (Bidirectio  (None, 75, 256)          394240    \n",
            " nal)                                                            \n",
            "                                                                 \n",
            " dropout_1 (Dropout)         (None, 75, 256)           0         \n",
            "                                                                 \n",
            " dense (Dense)               (None, 75, 41)            10537     \n",
            "                                                                 \n",
            "=================================================================\n",
            "Total params: 8,471,924\n",
            "Trainable params: 8,471,924\n",
            "Non-trainable params: 0\n",
            "_________________________________________________________________\n"
          ]
        }
      ]
    },
    {
      "cell_type": "code",
      "source": [
        "yhat = model.predict(val[0])"
      ],
      "metadata": {
        "colab": {
          "base_uri": "https://localhost:8080/"
        },
        "id": "LaHiFrSCuRc9",
        "outputId": "56c36f11-6167-47d1-bbf5-e2402e4f405a"
      },
      "execution_count": 25,
      "outputs": [
        {
          "output_type": "stream",
          "name": "stdout",
          "text": [
            "1/1 [==============================] - 7s 7s/step\n"
          ]
        }
      ]
    },
    {
      "cell_type": "code",
      "source": [
        "tf.strings.reduce_join([num_to_char(tf.argmax(x)) for x in yhat[0]])"
      ],
      "metadata": {
        "colab": {
          "base_uri": "https://localhost:8080/"
        },
        "id": "FlmtVt_gu3KK",
        "outputId": "641b39da-48ca-40ce-c075-80e0821a5ab2"
      },
      "execution_count": 26,
      "outputs": [
        {
          "output_type": "execute_result",
          "data": {
            "text/plain": [
              "<tf.Tensor: shape=(), dtype=string, numpy=b'5555555oooooooooooooooooddddddddddddddddddddddd333333333333ddddd88888888ooo'>"
            ]
          },
          "metadata": {},
          "execution_count": 26
        }
      ]
    },
    {
      "cell_type": "code",
      "source": [
        "model.input_shape"
      ],
      "metadata": {
        "colab": {
          "base_uri": "https://localhost:8080/"
        },
        "id": "xDAOp0KovJM4",
        "outputId": "e3337a1f-c673-4520-957e-be299e190a09"
      },
      "execution_count": 27,
      "outputs": [
        {
          "output_type": "execute_result",
          "data": {
            "text/plain": [
              "(None, 75, 46, 140, 1)"
            ]
          },
          "metadata": {},
          "execution_count": 27
        }
      ]
    },
    {
      "cell_type": "code",
      "source": [
        "model.output_shape"
      ],
      "metadata": {
        "colab": {
          "base_uri": "https://localhost:8080/"
        },
        "id": "AzpPpuVrvV8h",
        "outputId": "ceaf413d-a0dc-4953-8257-f9c0f3880e31"
      },
      "execution_count": 28,
      "outputs": [
        {
          "output_type": "execute_result",
          "data": {
            "text/plain": [
              "(None, 75, 41)"
            ]
          },
          "metadata": {},
          "execution_count": 28
        }
      ]
    },
    {
      "cell_type": "code",
      "source": [
        "def schedular(epoch, lr):\n",
        "  if epoch < 30:\n",
        "    return lr\n",
        "  else:\n",
        "    return lr * tf.math.exp(-0.1)"
      ],
      "metadata": {
        "id": "CeCxUPz3vaum"
      },
      "execution_count": 29,
      "outputs": []
    },
    {
      "cell_type": "code",
      "source": [
        "def CTCLoss(y_true, y_pred):\n",
        "    batch_len = tf.cast(tf.shape(y_true)[0], dtype=\"int64\")\n",
        "    input_length = tf.cast(tf.shape(y_pred)[1], dtype=\"int64\")\n",
        "    label_length = tf.cast(tf.shape(y_true)[1], dtype=\"int64\")\n",
        "\n",
        "    input_length = input_length * tf.ones(shape=(batch_len, 1), dtype=\"int64\")\n",
        "    label_length = label_length * tf.ones(shape=(batch_len, 1), dtype=\"int64\")\n",
        "\n",
        "    loss = tf.keras.backend.ctc_batch_cost(y_true, y_pred, input_length, label_length)\n",
        "    return loss"
      ],
      "metadata": {
        "id": "Cg-rBatx92ne"
      },
      "execution_count": 30,
      "outputs": []
    },
    {
      "cell_type": "code",
      "source": [
        "class ProduceExample(tf.keras.callbacks.Callback): \n",
        "    def __init__(self, dataset) -> None: \n",
        "        self.dataset = dataset.as_numpy_iterator()\n",
        "    \n",
        "    def on_epoch_end(self, epoch, logs=None) -> None:\n",
        "        data = self.dataset.next()\n",
        "        yhat = self.model.predict(data[0])\n",
        "        decoded = tf.keras.backend.ctc_decode(yhat, [75,75], greedy=False)[0][0].numpy()\n",
        "        for x in range(len(yhat)):           \n",
        "            print('Original:', tf.strings.reduce_join(num_to_char(data[1][x])).numpy().decode('utf-8'))\n",
        "            print('Prediction:', tf.strings.reduce_join(num_to_char(decoded[x])).numpy().decode('utf-8'))\n",
        "            print('~'*100)"
      ],
      "metadata": {
        "id": "mIJVAu2P-XCC"
      },
      "execution_count": 31,
      "outputs": []
    },
    {
      "cell_type": "code",
      "source": [
        "model.compile(optimizer=Adam(learning_rate=0.0001), loss=CTCLoss)"
      ],
      "metadata": {
        "id": "5Hl_nWLH-kf8"
      },
      "execution_count": 32,
      "outputs": []
    },
    {
      "cell_type": "code",
      "source": [
        "checkpoint_callback = ModelCheckpoint(os.path.join('models', 'checkpoint'), monitor='loss', save_best_only=True) "
      ],
      "metadata": {
        "id": "9sTMyrsf_Eld"
      },
      "execution_count": 33,
      "outputs": []
    },
    {
      "cell_type": "code",
      "source": [
        "schedule_callback = LearningRateScheduler(schedular)"
      ],
      "metadata": {
        "id": "tXsvh-aGApv4"
      },
      "execution_count": 34,
      "outputs": []
    },
    {
      "cell_type": "code",
      "source": [
        "example_callback = ProduceExample(test) "
      ],
      "metadata": {
        "id": "Bn5v_yI6A7vx"
      },
      "execution_count": 35,
      "outputs": []
    },
    {
      "cell_type": "code",
      "source": [
        "history = model.fit(train, validation_data=test, epochs=100, callbacks=[checkpoint_callback, schedule_callback, example_callback])"
      ],
      "metadata": {
        "id": "Fc0WnbM9BQ3M"
      },
      "execution_count": null,
      "outputs": []
    }
  ]
}